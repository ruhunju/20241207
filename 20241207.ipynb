{
  "nbformat": 4,
  "nbformat_minor": 0,
  "metadata": {
    "colab": {
      "provenance": []
    },
    "kernelspec": {
      "name": "python3",
      "display_name": "Python 3"
    },
    "language_info": {
      "name": "python"
    }
  },
  "cells": [
    {
      "cell_type": "markdown",
      "source": [],
      "metadata": {
        "id": "ufePSkN4W5EN"
      }
    },
    {
      "cell_type": "markdown",
      "source": [
        "1. LeetCode 225. Implement Stack using Queues\n"
      ],
      "metadata": {
        "id": "pRYDNmtvW-wT"
      }
    },
    {
      "cell_type": "code",
      "execution_count": 5,
      "metadata": {
        "id": "w5LNLFNkWKTy"
      },
      "outputs": [],
      "source": [
        "from collections import deque\n",
        "\n",
        "class MyStack:\n",
        "\n",
        "    def __init__(self):\n",
        "        self.q = deque()\n",
        "\n",
        "    def push(self, x: int) -> None:\n",
        "        self.q.append(x)\n",
        "        for _ in range(len(self.q) - 1):\n",
        "            self.q.append(self.q.popleft())\n",
        "\n",
        "    def pop(self) -> int:\n",
        "        return self.q.popleft()\n",
        "\n",
        "    def top(self) -> int:\n",
        "        return self.q[0]\n",
        "\n",
        "    def empty(self) -> bool:\n",
        "        return not self.q\n"
      ]
    },
    {
      "cell_type": "markdown",
      "source": [
        "2. LeetCode 232. Implement Queue using Stacks\n"
      ],
      "metadata": {
        "id": "v89p0dogY-C-"
      }
    },
    {
      "cell_type": "code",
      "source": [
        "class MyQueue:\n",
        "\n",
        "    def __init__(self):\n",
        "        self.stack_in = []\n",
        "        self.stack_out = []\n",
        "\n",
        "    def push(self, x: int) -> None:\n",
        "        self.stack_in.append(x)\n",
        "\n",
        "    def pop(self) -> int:\n",
        "        self.peek()\n",
        "        return self.stack_out.pop()\n",
        "\n",
        "    def peek(self) -> int:\n",
        "        if not self.stack_out:\n",
        "            while self.stack_in:\n",
        "                self.stack_out.append(self.stack_in.pop())\n",
        "        return self.stack_out[-1]\n",
        "\n",
        "    def empty(self) -> bool:\n",
        "        return not self.stack_in and not self.stack_out\n"
      ],
      "metadata": {
        "id": "jAWT4fN0ZISM"
      },
      "execution_count": 6,
      "outputs": []
    },
    {
      "cell_type": "markdown",
      "source": [
        "3. 교재의 큐 연습문제"
      ],
      "metadata": {
        "id": "CJXQNT8CZf8k"
      }
    },
    {
      "cell_type": "markdown",
      "source": [
        "3-1"
      ],
      "metadata": {
        "id": "04QC7SIIZjsr"
      }
    },
    {
      "cell_type": "code",
      "source": [
        "class ListQueue:\n",
        "\tdef __init__(self):\n",
        "    \tself.__queue = []\n",
        "\n",
        "    def enqueue(self, item):\n",
        "    \tself.__queue.insert(0, item)\n",
        "\n",
        "    def dequeue(self):\n",
        "    \treturn self.__queue.pop()\n",
        "\n",
        "    def front(self):\n",
        "    \tif self.__queue.is_empty():\n",
        "        \treturn None\n",
        "        else:\n",
        "        \treturn self.__queue[len(self.__queue) - 1]\n",
        "\n",
        "    def is_empty(self) -> bool:\n",
        "    \treturn not bool(self.__queue)\n",
        "\n",
        "    def dequeue_all(self):\n",
        "    \tself.__queue.clear()"
      ],
      "metadata": {
        "id": "oKZyGXnacsx-"
      },
      "execution_count": null,
      "outputs": []
    },
    {
      "cell_type": "markdown",
      "source": [
        "3-2"
      ],
      "metadata": {
        "id": "CvikhxAAZ2a7"
      }
    },
    {
      "cell_type": "code",
      "source": [
        "def is_in_set(string: String) -> bool:\n",
        "\tq = ListQueue()\n",
        "    index = 0\n",
        "    while string[index] != '$':\n",
        "    \tq.enqueue(string[index])\n",
        "        index += 1\n",
        "    index += 1\n",
        "    while index < len(string):\n",
        "    \tif q.dequeue() != string[index]:\n",
        "        \treturn False\n",
        "        else:\n",
        "        \tindex += 1\n",
        "    return True"
      ],
      "metadata": {
        "id": "LXgoTqelcvtX"
      },
      "execution_count": null,
      "outputs": []
    },
    {
      "cell_type": "markdown",
      "source": [
        "3-3"
      ],
      "metadata": {
        "id": "saMDJ73yaCI_"
      }
    },
    {
      "cell_type": "code",
      "source": [
        "def copy_linked_queue(a: LinkedQueue, b: LinkedQueue):\n",
        "\tb.dequeue_all()\n",
        "    temp_queue = LinkedQueue()\n",
        "    while not a.is_empty():\n",
        "    \ttemp_queue.enqueue(a.dequeue())\n",
        "    while not temp_queue.is_empty():\n",
        "    \ta.enqueue(temp_queue.front())\n",
        "        b.enqueue(temp_queue.dequeue())"
      ],
      "metadata": {
        "id": "oXKnjDWraDfi"
      },
      "execution_count": null,
      "outputs": []
    },
    {
      "cell_type": "markdown",
      "source": [
        "3-4"
      ],
      "metadata": {
        "id": "UIdkzeBfaI0N"
      }
    },
    {
      "cell_type": "code",
      "source": [
        "def push(q1: LinkedQueue, q2: LinkedQueue, item):\n",
        "\tq2.dequeue_all()\n",
        "\twhile not q1.is_empty():\n",
        "    \tq2.enqueue(q1.dequeue())\n",
        "    q1.enqueue(item)\n",
        "    while not q2.is_empty():\n",
        "    \tq1.enqueue(q2.dequeue())\n",
        "\n",
        "def pop(q1: LinkedQueue, q2: LinkedQueue):\n",
        "\tq2.dequeue_all()\n",
        "    count = 0\n",
        "\twhile not q1.is_empty():\n",
        "    \tq2.enqueue(q1.dequeue())\n",
        "        count += 1\n",
        "    while _ in range(count - 1):\n",
        "    \tq1.enqueue(q2.dequeue())\n",
        "    return q2.dequeue()"
      ],
      "metadata": {
        "id": "TgvVdhLraHM7"
      },
      "execution_count": null,
      "outputs": []
    },
    {
      "cell_type": "markdown",
      "source": [
        "3-5"
      ],
      "metadata": {
        "id": "DP5n4AeVaM5S"
      }
    },
    {
      "cell_type": "code",
      "source": [
        "def enqueue(s1: LinkedStack, s2: LinkedStack, item):\n",
        "\ts2.pop_all()\n",
        "    while not s1.is_empty():\n",
        "    \ts2.push(s1.pop())\n",
        "    s1.push(item)\n",
        "    while not s2.is_empty():\n",
        "    \ts1.push(s2.pop())\n",
        "\n",
        "def dequeue(s1: LinkedStack, s2: LinkedStack):\n",
        "\ts2.pop_all()\n",
        "    while not s1.is_empty():\n",
        "    \ts2.push(s1.pop())\n",
        "    ret_item = s2.pop()\n",
        "    while not s2.is_empty():\n",
        "    \ts1.push(s2.pop())\n",
        "    return ret_item"
      ],
      "metadata": {
        "id": "7yy21JdoaP4M"
      },
      "execution_count": null,
      "outputs": []
    },
    {
      "cell_type": "markdown",
      "source": [
        "3-6\n",
        "구현하고자 하는 Deque는 단방향원형리스트를 기반으로 한다.\n",
        "또한, 이 Deque의 front는 리스트의 맨 앞이며 tail은 리스트의 맨 끝으로 한다.\n",
        "enqueue()의 수행시간은 Deque의 front에서 수행할 시 Θ(1), Deque의 tail에서 수행할 시 Θ(1)이다. 따라서 수행 위치에 상관없이 enqueue()의 수행 시간은 Θ(1)이다.\n",
        "dequeue()의 수행시간은 Deque의 front에서 수행할 시 Θ(1), Deque의 tail에서"
      ],
      "metadata": {
        "id": "lo5tOpD2aTy6"
      }
    },
    {
      "cell_type": "markdown",
      "source": [
        "3-7\n",
        "구현하고자 하는 Deque는 단방향리스트를 기반으로 한다.\n",
        "또한, 이 Deque의 front는 리스트의 맨 앞이며 tail은 리스트의 맨 끝으로 한다.\n",
        "enqueue()의 수행시간은 Deque의 front에서 수행할 시 Θ(1), Deque의 tail에서 수행할 시 Θ(n)이다. 따라서 enqueue()의 수행 시간은 최악의 경우를 고려해 Θ(n)이다.\n",
        "dequeue()의 수행시간은 Deque의 front에서 수행할 시 Θ(1), Deque의 tail에서 수행할 시 Θ(n)이다. 따라서 dequeue()의 수행 시간은 최악의 경우를 고려해 Θ(n)이다."
      ],
      "metadata": {
        "id": "Yi-59x_YaYF9"
      }
    },
    {
      "cell_type": "markdown",
      "source": [
        "3-8"
      ],
      "metadata": {
        "id": "VhgMfPH2ahbT"
      }
    },
    {
      "cell_type": "code",
      "source": [
        "class ListDeque:\n",
        "\tdef __init__(self):\n",
        "    \tself.__queue = []\n",
        "\n",
        "    def enqueue(self, item):\n",
        "    \tself.__queue.append(item)\n",
        "\n",
        "    def dequeue(self):\n",
        "    \treturn self.__queue.pop(0)\n",
        "\n",
        "    def push(self, item):\n",
        "    \tself.__queue.insert(0, item)\n",
        "\n",
        "    def pop(self):\n",
        "    \treturn self.__queue.pop(len(self.__queue) - 1)\n",
        "\n",
        "    def front(self):\n",
        "    \tif self.is_empty():\n",
        "        \treturn None\n",
        "        else:\n",
        "        \treturn self.__queue[0]\n",
        "\n",
        "    def rear(self):\n",
        "    \tif self.is_empty():\n",
        "        \treturn None\n",
        "    \telse:\n",
        "        \treturn self.__queue[len(self.__queue) - 1]\n",
        "\n",
        "    def is_empty(self):\n",
        "    \treturn not bool(self.__queue)\n",
        "\n",
        "    def deque_all(self):\n",
        "    \tself.__queue.clear()\n",
        "\n",
        "    def print_deque(self):\n",
        "    \tprint(\"Dequeue from front:\", end = ' ')\n",
        "        for index in range(len(self.__queue)):\n",
        "        \tprint(self.__queue[index], end = ' ')\n",
        "        print()"
      ],
      "metadata": {
        "id": "-tvhUcQ0aid8"
      },
      "execution_count": null,
      "outputs": []
    }
  ]
}